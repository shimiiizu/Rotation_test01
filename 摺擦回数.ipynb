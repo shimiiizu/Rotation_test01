{
  "nbformat": 4,
  "nbformat_minor": 0,
  "metadata": {
    "colab": {
      "provenance": [],
      "authorship_tag": "ABX9TyN2HuOrQOo16Cm+wRvOrkTh",
      "include_colab_link": true
    },
    "kernelspec": {
      "name": "python3",
      "display_name": "Python 3"
    },
    "language_info": {
      "name": "python"
    }
  },
  "cells": [
    {
      "cell_type": "markdown",
      "metadata": {
        "id": "view-in-github",
        "colab_type": "text"
      },
      "source": [
        "<a href=\"https://colab.research.google.com/github/shimiiizu/Rotation_test01/blob/main/%E6%91%BA%E6%93%A6%E5%9B%9E%E6%95%B0.ipynb\" target=\"_parent\"><img src=\"https://colab.research.google.com/assets/colab-badge.svg\" alt=\"Open In Colab\"/></a>"
      ]
    },
    {
      "cell_type": "markdown",
      "source": [
        "# 摺擦回数の計算"
      ],
      "metadata": {
        "id": "Ns2FjAN03CJa"
      }
    },
    {
      "cell_type": "code",
      "source": [
        "import pandas as pd\n",
        "import matplotlib.pyplot as plt\n",
        "\n",
        "# 空のデータフレームの作成\n",
        "\n",
        "col = ['page','toner_weight','K']\n",
        "df = pd.DataFrame(columns=col)\n",
        "\n",
        "# 耐久枚数のリストを作成\n",
        "\n",
        "page_moto_list = list(range(0, 21, 1))\n",
        "\n",
        "page_list = [x * 100 for x in page_moto_list]\n",
        "df['page']=page_list"
      ],
      "metadata": {
        "id": "NZozpmJy3N96"
      },
      "execution_count": 1,
      "outputs": []
    },
    {
      "cell_type": "markdown",
      "source": [
        "# 摺擦回数・トナー重量のリストの作成"
      ],
      "metadata": {
        "id": "a_C-J4_Rsz8R"
      }
    },
    {
      "cell_type": "code",
      "source": [
        "# 1枚当たりの通過トナー量d　= ノリ量×現像移動距離×コート幅\n",
        "d = 1\n",
        "\n",
        "# 摺擦回数の初期値：K0\n",
        "K_ini = 0\n",
        "\n",
        "# 補給開始トナー量：t\n",
        "toner_supply_weight = 60\n",
        "\n",
        "# ★初期充填量\n",
        "toner_weight_ini = 100\n",
        "\n",
        "# ★消費量\n",
        "s = 0.06\n",
        "\n",
        "# ★補給タイミング\n",
        "supply_timing = 10\n",
        "\n",
        "# 初期リスト\n",
        "toner_weight_list = [toner_weight_ini]\n",
        "K_list = [K_ini]\n",
        "\n",
        "for index, page in enumerate(page_list):\n",
        "  if index > 0 and index < supply_timing:\n",
        "\n",
        "    toner_weight_list.append(toner_weight_ini - s*page)\n",
        "    K_list.append(K_list[index-1] + d / toner_weight_list[index])\n",
        "\n",
        "  # 補給タイミングの処理\n",
        "  elif index == supply_timing:\n",
        "\n",
        "    # トナー量リセット\n",
        "    toner_weight_list.append(toner_weight_list[index - 1] + toner_supply_weight)\n",
        "\n",
        "    # 摺擦回数リセット\n",
        "    K_s1 = K_list[supply_timing - 1] * toner_weight_list[supply_timing - 1] / toner_weight_list[supply_timing]\n",
        "    K_list.append(K_s1 + d / toner_weight_list[supply_timing])\n",
        "\n",
        "  elif index > supply_timing:\n",
        "\n",
        "    toner_weight_list.append(toner_weight_list[supply_timing] - s*(page-supply_timing*100))\n",
        "    K_list.append(K_list[index-1] + d / toner_weight_list[index])\n",
        "\n",
        "\n",
        "# データフレームに挿入\n",
        "df['K'] = K_list\n",
        "df['toner_weight'] = toner_weight_list\n",
        "#df"
      ],
      "metadata": {
        "id": "g1CgqugOsR_o"
      },
      "execution_count": 6,
      "outputs": []
    },
    {
      "cell_type": "code",
      "source": [
        "fig, ax = plt.subplots(nrows=2, ncols=1)\n",
        "\n",
        "ax[0].scatter(df['page'],df['toner_weight'])\n",
        "ax[1].scatter(df['page'],df['K'])\n",
        "ax[0].set_xlabel('page')\n",
        "ax[0].set_ylabel('toner_weight')\n",
        "ax[1].set_ylabel('K')"
      ],
      "metadata": {
        "id": "dE1cQb5qFn80",
        "colab": {
          "base_uri": "https://localhost:8080/",
          "height": 447
        },
        "outputId": "faf6a26d-035a-449f-849e-d62c4df01c99"
      },
      "execution_count": 7,
      "outputs": [
        {
          "output_type": "execute_result",
          "data": {
            "text/plain": [
              "Text(0, 0.5, 'K')"
            ]
          },
          "metadata": {},
          "execution_count": 7
        },
        {
          "output_type": "display_data",
          "data": {
            "text/plain": [
              "<Figure size 640x480 with 2 Axes>"
            ],
            "image/png": "[encoded data removed]"
          },
          "metadata": {}
        }
      ]
    },
    {
      "cell_type": "code",
      "source": [],
      "metadata": {
        "id": "FUNDl2f0OM4K"
      },
      "execution_count": null,
      "outputs": []
    }
  ]
}